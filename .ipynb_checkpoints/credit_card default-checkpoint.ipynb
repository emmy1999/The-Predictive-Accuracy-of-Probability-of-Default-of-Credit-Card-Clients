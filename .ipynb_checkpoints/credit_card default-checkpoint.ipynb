{
 "cells": [
  {
   "cell_type": "code",
   "execution_count": null,
   "id": "6115f446",
   "metadata": {},
   "outputs": [],
   "source": [
    "# importing libraries\n",
    "import pandas as pd\n",
    "import matplotlib.pyplot as plt\n",
    "import seaborn as sns"
   ]
  },
  {
   "cell_type": "code",
   "execution_count": null,
   "id": "08c35234",
   "metadata": {},
   "outputs": [],
   "source": [
    "#pip install xlrd"
   ]
  },
  {
   "cell_type": "code",
   "execution_count": null,
   "id": "34bd00ca",
   "metadata": {},
   "outputs": [],
   "source": [
    "# Loading the dataset from excel file and skip first row\n",
    "data = pd.read_excel('default of credit card clients.xls', skiprows=1)  "
   ]
  },
  {
   "cell_type": "code",
   "execution_count": null,
   "id": "b9e6db8c",
   "metadata": {
    "scrolled": true
   },
   "outputs": [],
   "source": [
    "data"
   ]
  },
  {
   "cell_type": "code",
   "execution_count": null,
   "id": "84ebddec",
   "metadata": {},
   "outputs": [],
   "source": [
    "# Displaying the first few rows of the dataset to understand its structure.\n",
    "print(data.head())\n"
   ]
  },
  {
   "cell_type": "code",
   "execution_count": null,
   "id": "5b96b09b",
   "metadata": {},
   "outputs": [],
   "source": [
    "# Displaying info about the dataset.\n",
    "print(data.info())"
   ]
  },
  {
   "cell_type": "code",
   "execution_count": null,
   "id": "2775254a",
   "metadata": {},
   "outputs": [],
   "source": [
    "#Displaying Summary statistics\n",
    "data.describe()"
   ]
  },
  {
   "cell_type": "code",
   "execution_count": null,
   "id": "7ac78083",
   "metadata": {},
   "outputs": [],
   "source": [
    "# Checking for missing values\n",
    "print(\"\\nMissing values present in the dataset :\")\n",
    "print(data.isnull().sum())"
   ]
  },
  {
   "cell_type": "code",
   "execution_count": null,
   "id": "f44e2dd9",
   "metadata": {},
   "outputs": [],
   "source": [
    "# Rename columns for more clarity\n",
    "data.columns = ['ID', 'LIMIT_BAL', 'SEX', 'EDUCATION', 'MARRIAGE', 'AGE', 'PAY_0', 'PAY_2', 'PAY_3', \n",
    "              'PAY_4', 'PAY_5', 'PAY_6', 'BILL_AMT1', 'BILL_AMT2', 'BILL_AMT3', 'BILL_AMT4', \n",
    "              'BILL_AMT5', 'BILL_AMT6', 'PAY_AMT1', 'PAY_AMT2', 'PAY_AMT3', 'PAY_AMT4', 'PAY_AMT5', \n",
    "              'PAY_AMT6', 'default_payment_next_month']"
   ]
  },
  {
   "cell_type": "code",
   "execution_count": null,
   "id": "03f1c9f5",
   "metadata": {},
   "outputs": [],
   "source": [
    "data.head(10)"
   ]
  },
  {
   "cell_type": "code",
   "execution_count": null,
   "id": "ae4a35e3",
   "metadata": {},
   "outputs": [],
   "source": [
    "# Distribution of categorical variables\n",
    "print(\"\\nDistribution of categorical variables:\")\n",
    "print(\"Sex:\")\n",
    "print(data['SEX'].value_counts())\n",
    "print(\"\\nEducation:\")\n",
    "print(data['EDUCATION'].value_counts())\n",
    "print(\"\\nMarriage:\")\n",
    "print(data['MARRIAGE'].value_counts())\n"
   ]
  },
  {
   "cell_type": "code",
   "execution_count": null,
   "id": "c31f7a29",
   "metadata": {},
   "outputs": [],
   "source": [
    "# Distribution of target variable\n",
    "print(\"\\nDistribution of target variable:\")\n",
    "print(data['default_payment_next_month'].value_counts())"
   ]
  },
  {
   "cell_type": "code",
   "execution_count": null,
   "id": "3fba5056",
   "metadata": {},
   "outputs": [],
   "source": [
    "# Correlation Analysis\n",
    "print(\"\\nCorrelation analysis:\")\n",
    "corr_matrix = data.corr()\n",
    "print(corr_matrix)\n"
   ]
  },
  {
   "cell_type": "code",
   "execution_count": null,
   "id": "5500e7a7",
   "metadata": {},
   "outputs": [],
   "source": [
    "# Plotting the correlation matrix\n",
    "plt.figure(figsize=(12, 10))\n",
    "sns.heatmap(corr_matrix, annot=True, fmt='.2f', cmap='coolwarm')\n",
    "plt.title('Correlation Matrix')\n",
    "plt.show()\n"
   ]
  },
  {
   "cell_type": "code",
   "execution_count": null,
   "id": "a0925653",
   "metadata": {},
   "outputs": [],
   "source": [
    "# Pair plot of selected features ('LIMIT_BAL', 'AGE', 'BILL_AMT1', 'PAY_AMT1', 'default_payment_next_month')\n",
    "selected_features = ['LIMIT_BAL', 'AGE', 'BILL_AMT1', 'PAY_AMT1', 'default_payment_next_month']\n",
    "sns.pairplot(data[selected_features], hue='default_payment_next_month')\n",
    "plt.show()\n"
   ]
  },
  {
   "cell_type": "code",
   "execution_count": null,
   "id": "b520a378",
   "metadata": {},
   "outputs": [],
   "source": [
    "# Ploting the relationship between age and default payment next month using BoxPlot\n",
    "plt.figure(figsize=(10, 6))\n",
    "sns.boxplot(x='default_payment_next_month', y='AGE', data=data)\n",
    "plt.title('Relationship between Age and Default Payment Next Month')\n",
    "plt.xlabel('Default Payment Next Month (1 = Yes, 0 = No)')\n",
    "plt.ylabel('Age')\n",
    "plt.show()"
   ]
  },
  {
   "cell_type": "code",
   "execution_count": null,
   "id": "151ea277",
   "metadata": {},
   "outputs": [],
   "source": [
    "# Ploting Distribution of Age\n",
    "plt.figure(figsize=(10, 6))\n",
    "sns.histplot(data['AGE'], bins=30, kde=True)\n",
    "plt.title('Distribution of Age')\n",
    "plt.xlabel('Age')\n",
    "plt.ylabel('Count')\n",
    "plt.show()"
   ]
  },
  {
   "cell_type": "code",
   "execution_count": null,
   "id": "28da2ca2",
   "metadata": {},
   "outputs": [],
   "source": [
    "# Counts of default and non-default payments\n",
    "default_counts = data['default_payment_next_month'].value_counts()\n",
    "\n",
    "# Ploting the pie chart for the Proportion of Default and Non-default Payments\n",
    "labels = ['Non-default', 'Default']\n",
    "colors = ['#66b3ff', '#ffcc99']\n",
    "explode = (0, 0.1)  # explode the 2nd slice (i.e. 'Default')\n",
    "\n",
    "plt.figure(figsize=(8, 8))\n",
    "plt.pie(default_counts, labels=labels, colors=colors, autopct='%1.1f%%', startangle=140, explode=explode)\n",
    "plt.title('Proportion of Default and Non-default Payments')\n",
    "plt.show()"
   ]
  },
  {
   "cell_type": "code",
   "execution_count": null,
   "id": "d71e4587",
   "metadata": {},
   "outputs": [],
   "source": [
    "# Mapping the education levels to their descriptions\n",
    "education_mapping = {1: 'Graduate School', 2: 'University', 3: 'High School', 4: 'Others'}\n",
    "data['EDUCATION_MAP'] = data['EDUCATION'].map(education_mapping)\n"
   ]
  },
  {
   "cell_type": "code",
   "execution_count": null,
   "id": "05e97e6f",
   "metadata": {},
   "outputs": [],
   "source": [
    "# Ploting the relationship between education and default payment next month using bargraph\n",
    "plt.figure(figsize=(10, 6))\n",
    "sns.countplot(x='EDUCATION_MAP', hue='default_payment_next_month', data=data, palette='Set2')\n",
    "plt.title('Relationship between Education Level and Default Payment Next Month')\n",
    "plt.xlabel('Education Level')\n",
    "plt.ylabel('Count')\n",
    "plt.legend(title='Default Payment Next Month', labels=['No', 'Yes'])\n",
    "plt.xticks(rotation=45)\n",
    "plt.show()"
   ]
  },
  {
   "cell_type": "code",
   "execution_count": null,
   "id": "ab2c9280",
   "metadata": {},
   "outputs": [],
   "source": [
    "# Ploting the relationship between LIMIT_BAL and default payment next month using boxplot\n",
    "plt.figure(figsize=(12, 6))\n",
    "sns.boxplot(x='default_payment_next_month', y='LIMIT_BAL', data=data, palette='Set2')\n",
    "plt.title('Relationship between Credit Limit (LIMIT_BAL) and Default Payment Next Month')\n",
    "plt.xlabel('Default Payment Next Month')\n",
    "plt.ylabel('Credit Limit (NT dollars)')\n",
    "plt.xticks([0, 1], ['No', 'Yes'])\n",
    "plt.show()"
   ]
  },
  {
   "cell_type": "code",
   "execution_count": null,
   "id": "0861ce6d",
   "metadata": {},
   "outputs": [],
   "source": [
    "# Ploting Relationship between Education and Credit Limit using a boxplot\n",
    "plt.figure(figsize=(10, 6))\n",
    "sns.boxplot(x='EDUCATION_MAP', y='LIMIT_BAL', data=data, palette='Set2')\n",
    "plt.title('Relationship between Education and Credit Limit')\n",
    "plt.xlabel('Education Level')\n",
    "plt.ylabel('Credit Limit (LIMIT_BAL)')\n",
    "plt.xticks(rotation=45)\n",
    "plt.tight_layout()\n",
    "plt.show()\n",
    "\n"
   ]
  },
  {
   "cell_type": "code",
   "execution_count": null,
   "id": "96a1d451",
   "metadata": {},
   "outputs": [],
   "source": [
    "# Mapping for marital status\n",
    "marriage_map = {\n",
    "    1: 'Married',\n",
    "    2: 'Single',\n",
    "    3: 'Others'\n",
    "}\n",
    "\n",
    "# Apply the marital status mapping\n",
    "data['MARRIAGE_MAP'] = data['MARRIAGE'].map(marriage_map)\n",
    "\n"
   ]
  },
  {
   "cell_type": "code",
   "execution_count": null,
   "id": "81e97fe1",
   "metadata": {},
   "outputs": [],
   "source": [
    "# Plotting relationship between MARRIAGE and default_payment_next_month\n",
    "\n",
    "plt.figure(figsize=(10, 6))\n",
    "\n",
    "# Count plot to show distribution of default_payment_next_month across MARRIAGE categories\n",
    "sns.countplot(x='MARRIAGE_MAP', hue='default_payment_next_month', data=data, palette='Set1')\n",
    "plt.title('Relationship between Marital Status and Default Payment Next Month')\n",
    "plt.xlabel('Marital Status')\n",
    "plt.ylabel('Count')\n",
    "plt.legend(title='Default Payment Next Month', loc='upper right', labels=['No', 'Yes'])\n",
    "plt.tight_layout()\n",
    "plt.show()"
   ]
  },
  {
   "cell_type": "code",
   "execution_count": null,
   "id": "fdd1034a",
   "metadata": {},
   "outputs": [],
   "source": [
    "# Selecting columns related to repayment status (PAY_0 to PAY_6)\n",
    "repayment_columns = ['PAY_0', 'PAY_2', 'PAY_3', 'PAY_4', 'PAY_5', 'PAY_6']\n",
    "\n",
    "# Flatten and count the values across all repayment columns\n",
    "payment_status_counts = data[repayment_columns].stack().value_counts().sort_index()\n",
    "\n",
    "# Mapping numeric codes to descriptive labels\n",
    "payment_labels = {\n",
    "    -2: 'No Consumption',\n",
    "    -1: 'Pay Duly',\n",
    "     0: 'Revolving Credit',\n",
    "     1: 'Delay 1 Month',\n",
    "     2: 'Delay 2 Months',\n",
    "     3: 'Delay 3 Months',\n",
    "     4: 'Delay 4 Months',\n",
    "     5: 'Delay 5 Months',\n",
    "     6: 'Delay 6 Months',\n",
    "     7: 'Delay 7 Months',\n",
    "     8: 'Delay 8 Months',\n",
    "     9: 'Delay 9+ Months'\n",
    "}\n",
    "\n",
    "# Create a DataFrame for plotting\n",
    "plot_data = pd.DataFrame({\n",
    "    'Repayment Status': payment_status_counts.index.map(payment_labels),\n",
    "    'Count': payment_status_counts.values\n",
    "})\n",
    "\n",
    "# Plotting the bar plot for the Distribution of Repayment Status Across Months\n",
    "plt.figure(figsize=(12, 6))\n",
    "sns.barplot(x='Repayment Status', y='Count', data=plot_data, palette='Set1', order=payment_labels.values())\n",
    "plt.title('Distribution of Repayment Status Across Months')\n",
    "plt.xlabel('Repayment Status')\n",
    "plt.ylabel('Count')\n",
    "plt.xticks(rotation=45, ha='right')\n",
    "plt.tight_layout()\n",
    "plt.show()"
   ]
  },
  {
   "cell_type": "code",
   "execution_count": null,
   "id": "dd53c7d2",
   "metadata": {},
   "outputs": [],
   "source": [
    "# Selecting columns related to payment status (PAY_0 to PAY_6) and default_payment_next_month\n",
    "payment_columns = ['PAY_0', 'PAY_2', 'PAY_3', 'PAY_4', 'PAY_5', 'PAY_6']\n",
    "target_column = 'default_payment_next_month'\n",
    "\n",
    "# Plotting grouped bar plot to visualize relationship between PAY and default_payment_next_month\n",
    "plt.figure(figsize=(12, 6))\n",
    "\n",
    "# Iterate through each payment column and plot the grouped bar\n",
    "for i, col in enumerate(payment_columns, start=1):\n",
    "    plt.subplot(2, 3, i)\n",
    "    sns.countplot(x=col, hue=target_column, data=data, palette='Set1')\n",
    "    plt.title(f'{col} vs Default Payment Next Month')\n",
    "    plt.xlabel(f'{col} Payment Status')\n",
    "    plt.ylabel('Count')\n",
    "    plt.legend(title='Default Payment Next Month', labels=['No', 'Yes'])\n",
    "    plt.tight_layout()\n",
    "\n",
    "plt.show()"
   ]
  },
  {
   "cell_type": "code",
   "execution_count": null,
   "id": "e3979b9d",
   "metadata": {},
   "outputs": [],
   "source": [
    "# List of bill amount and payment amount columns\n",
    "bill_columns = ['BILL_AMT1', 'BILL_AMT2', 'BILL_AMT3', 'BILL_AMT4', 'BILL_AMT5', 'BILL_AMT6']\n",
    "pay_columns = ['PAY_AMT1', 'PAY_AMT2', 'PAY_AMT3', 'PAY_AMT4', 'PAY_AMT5', 'PAY_AMT6']\n",
    "\n",
    "# Creating scatter plots for each pair of bill amounts and payment amounts\n",
    "plt.figure(figsize=(15, 10))\n",
    "\n",
    "for i in range(6):\n",
    "    plt.subplot(2, 3, i + 1)\n",
    "    sns.scatterplot(x=data[bill_columns[i]], y=data[pay_columns[i]], alpha=0.5)\n",
    "    plt.title(f'Relationship between {bill_columns[i]} and {pay_columns[i]}')\n",
    "    plt.xlabel('Bill Amount (NT dollars)')\n",
    "    plt.ylabel('Payment Amount (NT dollars)')\n",
    "\n",
    "plt.tight_layout()\n",
    "plt.show()"
   ]
  },
  {
   "cell_type": "markdown",
   "id": "246f44dd",
   "metadata": {},
   "source": [
    "# Model Implementation"
   ]
  },
  {
   "cell_type": "code",
   "execution_count": null,
   "id": "447e3163",
   "metadata": {},
   "outputs": [],
   "source": [
    "#pip install gplearn\n"
   ]
  },
  {
   "cell_type": "code",
   "execution_count": null,
   "id": "a6124c56",
   "metadata": {},
   "outputs": [],
   "source": [
    "# Drop the ID column as it is not relevant\n",
    "data = data.drop(columns=['ID','EDUCATION_MAP','MARRIAGE_MAP'])"
   ]
  },
  {
   "cell_type": "code",
   "execution_count": null,
   "id": "c4ed6fcf",
   "metadata": {},
   "outputs": [],
   "source": [
    "data"
   ]
  },
  {
   "cell_type": "code",
   "execution_count": null,
   "id": "43a62ca9",
   "metadata": {},
   "outputs": [],
   "source": [
    "from sklearn.preprocessing import MinMaxScaler\n",
    "# Separate numeric and categorical columns\n",
    "numeric_columns = data.select_dtypes(include=['int64', 'float64']).columns\n",
    "categorical_columns = data.select_dtypes(include=['object']).columns\n",
    "\n",
    "# Exclude categorical columns from normalization\n",
    "non_normalizable_columns = list(categorical_columns)\n",
    "columns_to_normalize = [col for col in numeric_columns if col not in non_normalizable_columns]\n",
    "\n",
    "# Initialize MinMaxScaler\n",
    "scaler = MinMaxScaler()\n",
    "\n",
    "# Normalize specified numeric columns\n",
    "data[columns_to_normalize] = scaler.fit_transform(data[columns_to_normalize])\n",
    "\n",
    "# Print the DataFrame to verify normalization\n",
    "print(data)"
   ]
  },
  {
   "cell_type": "code",
   "execution_count": null,
   "id": "6bfea2fe",
   "metadata": {},
   "outputs": [],
   "source": [
    "columns_to_normalize"
   ]
  },
  {
   "cell_type": "code",
   "execution_count": null,
   "id": "8ac97f07",
   "metadata": {},
   "outputs": [],
   "source": [
    "data\n"
   ]
  },
  {
   "cell_type": "code",
   "execution_count": null,
   "id": "11dd70f1",
   "metadata": {},
   "outputs": [],
   "source": [
    "import pandas as pd\n",
    "from sklearn.model_selection import train_test_split\n",
    "from sklearn.metrics import accuracy_score, classification_report\n",
    "from gplearn.genetic import SymbolicClassifier\n",
    "\n",
    "\n",
    "\n",
    "\n",
    "\n",
    "\n",
    "# Define features and target\n",
    "X = data.drop('default_payment_next_month', axis=1)\n",
    "y = data['default_payment_next_month']\n",
    "\n",
    "# Split the data into training and test sets\n",
    "X_train, X_test, y_train, y_test = train_test_split(X, y, test_size=0.3, random_state=42)\n",
    "\n",
    "# Define the symbolic regression model using Genetic Programming\n",
    "gp = SymbolicClassifier(population_size=5000,\n",
    "                        generations=20,\n",
    "                        tournament_size=20,\n",
    "                        const_range=(0, 1),\n",
    "                        init_depth=(2, 6),\n",
    "                        init_method='half and half',  # Use 'half and half' instead of 'half_and_half'\n",
    "                        parsimony_coefficient=0.001,\n",
    "                        random_state=42)\n",
    "\n",
    "# Fit the model\n",
    "gp.fit(X_train, y_train)\n",
    "\n",
    "# Make predictions\n",
    "y_pred = gp.predict(X_test)\n",
    "\n",
    "# Evaluate the model\n",
    "accuracy = accuracy_score(y_test, y_pred)\n",
    "print(f\"Accuracy: {accuracy:.2f}\")\n",
    "print(\"Classification Report:\")\n",
    "print(classification_report(y_test, y_pred))\n",
    "\n",
    "# Print the best program found\n",
    "print(\"Best program:\")\n",
    "print(gp._program)"
   ]
  }
 ],
 "metadata": {
  "kernelspec": {
   "display_name": "Python 3 (ipykernel)",
   "language": "python",
   "name": "python3"
  },
  "language_info": {
   "codemirror_mode": {
    "name": "ipython",
    "version": 3
   },
   "file_extension": ".py",
   "mimetype": "text/x-python",
   "name": "python",
   "nbconvert_exporter": "python",
   "pygments_lexer": "ipython3",
   "version": "3.11.4"
  }
 },
 "nbformat": 4,
 "nbformat_minor": 5
}
